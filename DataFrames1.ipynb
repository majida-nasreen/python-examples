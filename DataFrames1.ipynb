{
 "cells": [
  {
   "cell_type": "code",
   "execution_count": 1,
   "id": "feb55708-e3b8-4009-b368-7cb267e8a8c7",
   "metadata": {},
   "outputs": [],
   "source": [
    "import pandas as pd\n",
    "import numpy as np"
   ]
  },
  {
   "cell_type": "code",
   "execution_count": 10,
   "id": "a0bfe0f9-21e6-44be-8920-bf7c358fa330",
   "metadata": {},
   "outputs": [],
   "source": [
    "from numpy.random import randn\n",
    "np.random.seed(10)\n",
    "a=randn(6,5)"
   ]
  },
  {
   "cell_type": "code",
   "execution_count": 12,
   "id": "7a9cfeab-11c9-4fb4-905f-a848470c2fec",
   "metadata": {},
   "outputs": [
    {
     "data": {
      "text/plain": [
       "array([[ 1.3315865 ,  0.71527897, -1.54540029, -0.00838385,  0.62133597],\n",
       "       [-0.72008556,  0.26551159,  0.10854853,  0.00429143, -0.17460021],\n",
       "       [ 0.43302619,  1.20303737, -0.96506567,  1.02827408,  0.22863013],\n",
       "       [ 0.44513761, -1.13660221,  0.13513688,  1.484537  , -1.07980489],\n",
       "       [-1.97772828, -1.7433723 ,  0.26607016,  2.38496733,  1.12369125],\n",
       "       [ 1.67262221,  0.09914922,  1.39799638, -0.27124799,  0.61320418]])"
      ]
     },
     "execution_count": 12,
     "metadata": {},
     "output_type": "execute_result"
    }
   ],
   "source": [
    "a"
   ]
  },
  {
   "cell_type": "code",
   "execution_count": 18,
   "id": "4ed7f2cb-960a-459c-914d-356ef8df5ef4",
   "metadata": {},
   "outputs": [],
   "source": [
    "df=pd.DataFrame(a,index=[1,2,3,4,5,6],columns=['A','B','C','D','E'])"
   ]
  },
  {
   "cell_type": "code",
   "execution_count": 19,
   "id": "28ebf0f7-3ef0-4106-9a15-32026524fbbb",
   "metadata": {},
   "outputs": [
    {
     "data": {
      "text/html": [
       "<div>\n",
       "<style scoped>\n",
       "    .dataframe tbody tr th:only-of-type {\n",
       "        vertical-align: middle;\n",
       "    }\n",
       "\n",
       "    .dataframe tbody tr th {\n",
       "        vertical-align: top;\n",
       "    }\n",
       "\n",
       "    .dataframe thead th {\n",
       "        text-align: right;\n",
       "    }\n",
       "</style>\n",
       "<table border=\"1\" class=\"dataframe\">\n",
       "  <thead>\n",
       "    <tr style=\"text-align: right;\">\n",
       "      <th></th>\n",
       "      <th>A</th>\n",
       "      <th>B</th>\n",
       "      <th>C</th>\n",
       "      <th>D</th>\n",
       "      <th>E</th>\n",
       "    </tr>\n",
       "  </thead>\n",
       "  <tbody>\n",
       "    <tr>\n",
       "      <th>1</th>\n",
       "      <td>1.331587</td>\n",
       "      <td>0.715279</td>\n",
       "      <td>-1.545400</td>\n",
       "      <td>-0.008384</td>\n",
       "      <td>0.621336</td>\n",
       "    </tr>\n",
       "    <tr>\n",
       "      <th>2</th>\n",
       "      <td>-0.720086</td>\n",
       "      <td>0.265512</td>\n",
       "      <td>0.108549</td>\n",
       "      <td>0.004291</td>\n",
       "      <td>-0.174600</td>\n",
       "    </tr>\n",
       "    <tr>\n",
       "      <th>3</th>\n",
       "      <td>0.433026</td>\n",
       "      <td>1.203037</td>\n",
       "      <td>-0.965066</td>\n",
       "      <td>1.028274</td>\n",
       "      <td>0.228630</td>\n",
       "    </tr>\n",
       "    <tr>\n",
       "      <th>4</th>\n",
       "      <td>0.445138</td>\n",
       "      <td>-1.136602</td>\n",
       "      <td>0.135137</td>\n",
       "      <td>1.484537</td>\n",
       "      <td>-1.079805</td>\n",
       "    </tr>\n",
       "    <tr>\n",
       "      <th>5</th>\n",
       "      <td>-1.977728</td>\n",
       "      <td>-1.743372</td>\n",
       "      <td>0.266070</td>\n",
       "      <td>2.384967</td>\n",
       "      <td>1.123691</td>\n",
       "    </tr>\n",
       "    <tr>\n",
       "      <th>6</th>\n",
       "      <td>1.672622</td>\n",
       "      <td>0.099149</td>\n",
       "      <td>1.397996</td>\n",
       "      <td>-0.271248</td>\n",
       "      <td>0.613204</td>\n",
       "    </tr>\n",
       "  </tbody>\n",
       "</table>\n",
       "</div>"
      ],
      "text/plain": [
       "          A         B         C         D         E\n",
       "1  1.331587  0.715279 -1.545400 -0.008384  0.621336\n",
       "2 -0.720086  0.265512  0.108549  0.004291 -0.174600\n",
       "3  0.433026  1.203037 -0.965066  1.028274  0.228630\n",
       "4  0.445138 -1.136602  0.135137  1.484537 -1.079805\n",
       "5 -1.977728 -1.743372  0.266070  2.384967  1.123691\n",
       "6  1.672622  0.099149  1.397996 -0.271248  0.613204"
      ]
     },
     "execution_count": 19,
     "metadata": {},
     "output_type": "execute_result"
    }
   ],
   "source": [
    "df"
   ]
  },
  {
   "cell_type": "code",
   "execution_count": 20,
   "id": "cc819b63-95bc-40f5-81e0-6110bcf9672b",
   "metadata": {},
   "outputs": [],
   "source": [
    "df1=pd.DataFrame(a)"
   ]
  },
  {
   "cell_type": "code",
   "execution_count": 21,
   "id": "6ded7c32-e147-4714-a954-1701245bd724",
   "metadata": {},
   "outputs": [
    {
     "data": {
      "text/html": [
       "<div>\n",
       "<style scoped>\n",
       "    .dataframe tbody tr th:only-of-type {\n",
       "        vertical-align: middle;\n",
       "    }\n",
       "\n",
       "    .dataframe tbody tr th {\n",
       "        vertical-align: top;\n",
       "    }\n",
       "\n",
       "    .dataframe thead th {\n",
       "        text-align: right;\n",
       "    }\n",
       "</style>\n",
       "<table border=\"1\" class=\"dataframe\">\n",
       "  <thead>\n",
       "    <tr style=\"text-align: right;\">\n",
       "      <th></th>\n",
       "      <th>0</th>\n",
       "      <th>1</th>\n",
       "      <th>2</th>\n",
       "      <th>3</th>\n",
       "      <th>4</th>\n",
       "    </tr>\n",
       "  </thead>\n",
       "  <tbody>\n",
       "    <tr>\n",
       "      <th>0</th>\n",
       "      <td>1.331587</td>\n",
       "      <td>0.715279</td>\n",
       "      <td>-1.545400</td>\n",
       "      <td>-0.008384</td>\n",
       "      <td>0.621336</td>\n",
       "    </tr>\n",
       "    <tr>\n",
       "      <th>1</th>\n",
       "      <td>-0.720086</td>\n",
       "      <td>0.265512</td>\n",
       "      <td>0.108549</td>\n",
       "      <td>0.004291</td>\n",
       "      <td>-0.174600</td>\n",
       "    </tr>\n",
       "    <tr>\n",
       "      <th>2</th>\n",
       "      <td>0.433026</td>\n",
       "      <td>1.203037</td>\n",
       "      <td>-0.965066</td>\n",
       "      <td>1.028274</td>\n",
       "      <td>0.228630</td>\n",
       "    </tr>\n",
       "    <tr>\n",
       "      <th>3</th>\n",
       "      <td>0.445138</td>\n",
       "      <td>-1.136602</td>\n",
       "      <td>0.135137</td>\n",
       "      <td>1.484537</td>\n",
       "      <td>-1.079805</td>\n",
       "    </tr>\n",
       "    <tr>\n",
       "      <th>4</th>\n",
       "      <td>-1.977728</td>\n",
       "      <td>-1.743372</td>\n",
       "      <td>0.266070</td>\n",
       "      <td>2.384967</td>\n",
       "      <td>1.123691</td>\n",
       "    </tr>\n",
       "    <tr>\n",
       "      <th>5</th>\n",
       "      <td>1.672622</td>\n",
       "      <td>0.099149</td>\n",
       "      <td>1.397996</td>\n",
       "      <td>-0.271248</td>\n",
       "      <td>0.613204</td>\n",
       "    </tr>\n",
       "  </tbody>\n",
       "</table>\n",
       "</div>"
      ],
      "text/plain": [
       "          0         1         2         3         4\n",
       "0  1.331587  0.715279 -1.545400 -0.008384  0.621336\n",
       "1 -0.720086  0.265512  0.108549  0.004291 -0.174600\n",
       "2  0.433026  1.203037 -0.965066  1.028274  0.228630\n",
       "3  0.445138 -1.136602  0.135137  1.484537 -1.079805\n",
       "4 -1.977728 -1.743372  0.266070  2.384967  1.123691\n",
       "5  1.672622  0.099149  1.397996 -0.271248  0.613204"
      ]
     },
     "execution_count": 21,
     "metadata": {},
     "output_type": "execute_result"
    }
   ],
   "source": [
    "df1"
   ]
  },
  {
   "cell_type": "code",
   "execution_count": null,
   "id": "3d40078d-6041-43e5-ba83-eb040817be40",
   "metadata": {},
   "outputs": [],
   "source": []
  }
 ],
 "metadata": {
  "kernelspec": {
   "display_name": "Python 3 (ipykernel)",
   "language": "python",
   "name": "python3"
  },
  "language_info": {
   "codemirror_mode": {
    "name": "ipython",
    "version": 3
   },
   "file_extension": ".py",
   "mimetype": "text/x-python",
   "name": "python",
   "nbconvert_exporter": "python",
   "pygments_lexer": "ipython3",
   "version": "3.11.7"
  }
 },
 "nbformat": 4,
 "nbformat_minor": 5
}
